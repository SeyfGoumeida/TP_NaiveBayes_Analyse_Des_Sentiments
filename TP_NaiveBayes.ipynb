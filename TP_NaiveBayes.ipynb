{
 "cells": [
  {
   "cell_type": "markdown",
   "metadata": {},
   "source": [
    "# TP Appreentissage Supervisé (Excercice 3)\n",
    "##          Naive Bayes sur l'analyse des sentiments\n",
    "\n",
    "##                     Goumeida Ahmed Seyfeddine \n",
    "\n",
    "\n",
    "### 1. La 1ére dataset: Analyse des sentiments (Client_Reviews.csv)"
   ]
  },
  {
   "cell_type": "markdown",
   "metadata": {},
   "source": [
    "######  1 - packages :"
   ]
  },
  {
   "cell_type": "code",
   "execution_count": 358,
   "metadata": {},
   "outputs": [],
   "source": [
    "import pandas as pd\n",
    "from sklearn.model_selection import train_test_split\n",
    "from sklearn.naive_bayes import MultinomialNB\n"
   ]
  },
  {
   "cell_type": "markdown",
   "metadata": {},
   "source": [
    "######  2 - dataset import :\n"
   ]
  },
  {
   "cell_type": "code",
   "execution_count": 359,
   "metadata": {},
   "outputs": [],
   "source": [
    "df = pd.read_csv('./Client_Reviews.csv')\n",
    "\n",
    "df.head()\n",
    "df.describe()\n",
    "df.std()\n",
    "# Remplacer les cases vides par un text vide\n",
    "df['Review Text'] = df['Review Text'].fillna('')"
   ]
  },
  {
   "cell_type": "markdown",
   "metadata": {},
   "source": [
    "#####  3 -  insertion d'une nouvelle colonne 'Result' = \n",
    "- 'BAD' si Rating = 1-2,\n",
    "- 'NEUTRAL' si Rating = 3\n",
    "- 'GOOD' si Rating = 4-5"
   ]
  },
  {
   "cell_type": "code",
   "execution_count": 360,
   "metadata": {},
   "outputs": [],
   "source": [
    "for index, row in df.iterrows():\n",
    "    if row.Rating <= 2:\n",
    "        df.loc[index, 'Resultat'] = 'Bad'\n",
    "    elif row.Rating == 3:\n",
    "        df.loc[index, 'Resultat'] = 'Neutral'\n",
    "    else:\n",
    "        df.loc[index, 'Resultat'] = 'Good'\n"
   ]
  },
  {
   "cell_type": "markdown",
   "metadata": {},
   "source": [
    "######  4 - Appren & Test : "
   ]
  },
  {
   "cell_type": "code",
   "execution_count": 361,
   "metadata": {},
   "outputs": [],
   "source": [
    "Appren, Test = train_test_split(df, train_size = 0.7, random_state = 0)"
   ]
  },
  {
   "cell_type": "markdown",
   "metadata": {},
   "source": [
    "###### 5 - Préparation des données pour le model : "
   ]
  },
  {
   "cell_type": "code",
   "execution_count": 362,
   "metadata": {},
   "outputs": [],
   "source": [
    "from sklearn.feature_extraction.text import CountVectorizer\n",
    "vector = CountVectorizer(strip_accents='ascii', token_pattern=u'(?ui)\\\\b\\\\w*[a-z]+\\\\w*\\\\b', lowercase=True, stop_words='english')\n",
    "\n",
    "X_Appren = vector.fit_transform(Appren['Review Text'])\n",
    "Y_Appren = Appren['Resultat']\n",
    "X_Test = vector.transform(Test['Review Text'])\n",
    "Y_Test = Test['Resultat']"
   ]
  },
  {
   "cell_type": "markdown",
   "metadata": {},
   "source": [
    "######  6 - Naive Bayes :"
   ]
  },
  {
   "cell_type": "code",
   "execution_count": 363,
   "metadata": {},
   "outputs": [
    {
     "data": {
      "text/plain": [
       "MultinomialNB(alpha=1.0, class_prior=None, fit_prior=True)"
      ]
     },
     "execution_count": 363,
     "metadata": {},
     "output_type": "execute_result"
    }
   ],
   "source": [
    "NB = MultinomialNB()\n",
    "NB.fit(X_Appren, Y_Appren)"
   ]
  },
  {
   "cell_type": "markdown",
   "metadata": {},
   "source": [
    "###### 7 - Prédiction des sorties selon les entrées de Test: X_Test  : \n"
   ]
  },
  {
   "cell_type": "code",
   "execution_count": 364,
   "metadata": {},
   "outputs": [],
   "source": [
    "prediction = NB.predict(X_Test)"
   ]
  },
  {
   "cell_type": "markdown",
   "metadata": {},
   "source": [
    "###### 8 - score du model et quelques resutats  : \n"
   ]
  },
  {
   "cell_type": "code",
   "execution_count": 365,
   "metadata": {},
   "outputs": [
    {
     "name": "stdout",
     "output_type": "stream",
     "text": [
      "Accuracy score:  0.8189043428895827\n"
     ]
    }
   ],
   "source": [
    "from sklearn.metrics import accuracy_score, precision_score, recall_score\n",
    "print('Accuracy score: ', accuracy_score(Y_Test, prediction))\n"
   ]
  },
  {
   "cell_type": "markdown",
   "metadata": {},
   "source": [
    "####  on remarque que la précision et trés élevée = 0.81 (81%) on utilisant 70% des données (entrées) pour apprentissage \n"
   ]
  },
  {
   "cell_type": "code",
   "execution_count": 366,
   "metadata": {
    "scrolled": false
   },
   "outputs": [
    {
     "name": "stdout",
     "output_type": "stream",
     "text": [
      "              precision    recall  f1-score   support\n",
      "\n",
      "         Bad       0.62      0.35      0.45       728\n",
      "        Good       0.87      0.96      0.92      5465\n",
      "     Neutral       0.41      0.29      0.34       853\n",
      "\n",
      "    accuracy                           0.82      7046\n",
      "   macro avg       0.63      0.54      0.57      7046\n",
      "weighted avg       0.79      0.82      0.80      7046\n",
      "\n"
     ]
    }
   ],
   "source": [
    "import sklearn.metrics as mt\n",
    "print(mt.classification_report(Y_Test, prediction))"
   ]
  },
  {
   "cell_type": "markdown",
   "metadata": {},
   "source": [
    "####  pour avoir plus de detaille sur la précision :\n",
    "####  on peut predire de 87% de précision les (GOOD REVIEWS) et de 62% de précision (BAD REVIEWS)   \n",
    "####  mais c'est un peu difficile de prédire (NEUTRAL REVIEWS) 41% de précision \n"
   ]
  },
  {
   "cell_type": "markdown",
   "metadata": {},
   "source": [
    "###### 9 - Table de confusion : \n"
   ]
  },
  {
   "cell_type": "code",
   "execution_count": 367,
   "metadata": {},
   "outputs": [
    {
     "name": "stdout",
     "output_type": "stream",
     "text": [
      "[[ 256  262  210]\n",
      " [  46 5263  156]\n",
      " [ 111  491  251]]\n"
     ]
    },
    {
     "data": {
      "text/plain": [
       "Text(91.68, 0.5, 'Résultat Prédit')"
      ]
     },
     "execution_count": 367,
     "metadata": {},
     "output_type": "execute_result"
    },
    {
     "data": {
      "image/png": "[encoded data removed]",
      "text/plain": [
       "<Figure size 432x288 with 1 Axes>"
      ]
     },
     "metadata": {
      "needs_background": "light"
     },
     "output_type": "display_data"
    }
   ],
   "source": [
    "from sklearn.metrics import confusion_matrix\n",
    "import matplotlib.pyplot as plt\n",
    "import seaborn as sns\n",
    "cm = confusion_matrix(Y_Test, prediction)\n",
    "print(cm)\n",
    "sns.heatmap(cm, square=True, annot=True, cmap='RdBu', cbar=False,\n",
    "xticklabels=['BAD', 'GOOD', 'NEUTRAL'], yticklabels=['BAD', 'GOOD', 'NEUTRAL'])\n",
    "plt.xlabel('Résultat Actuel')\n",
    "plt.ylabel('Résultat Prédit')\n"
   ]
  },
  {
   "cell_type": "markdown",
   "metadata": {},
   "source": [
    "####  la table de confusion confirme que les GOOD sont les bien prédits ensuite les BAD et a la fin les NEUTRAL \n",
    "\n"
   ]
  },
  {
   "cell_type": "markdown",
   "metadata": {},
   "source": [
    "###### 10 -  comparaison : la sortie prédie & la sortie actuelle"
   ]
  },
  {
   "cell_type": "code",
   "execution_count": 368,
   "metadata": {},
   "outputs": [
    {
     "name": "stdout",
     "output_type": "stream",
     "text": [
      "     actual_label prediction\n",
      "0            Good    Neutral\n",
      "1            Good       Good\n",
      "2            Good       Good\n",
      "3            Good       Good\n",
      "4            Good    Neutral\n",
      "...           ...        ...\n",
      "7041         Good       Good\n",
      "7042         Good       Good\n",
      "7043         Good       Good\n",
      "7044         Good       Good\n",
      "7045         Good       Good\n",
      "\n",
      "[7046 rows x 2 columns]\n"
     ]
    }
   ],
   "source": [
    "\n",
    "check_df = pd.DataFrame({'actual_label': list(Y_Test), 'prediction': prediction})\n",
    "\n",
    "print(check_df)"
   ]
  },
  {
   "cell_type": "markdown",
   "metadata": {},
   "source": [
    "analyse selon la colonne Rating"
   ]
  },
  {
   "cell_type": "code",
   "execution_count": 369,
   "metadata": {},
   "outputs": [
    {
     "name": "stdout",
     "output_type": "stream",
     "text": [
      "Accuracy score:  0.6297189894975873\n",
      "              precision    recall  f1-score   support\n",
      "\n",
      "           1       0.56      0.10      0.17       246\n",
      "           2       0.33      0.07      0.12       482\n",
      "           3       0.38      0.37      0.38       853\n",
      "           4       0.38      0.33      0.36      1472\n",
      "           5       0.75      0.89      0.81      3993\n",
      "\n",
      "    accuracy                           0.63      7046\n",
      "   macro avg       0.48      0.35      0.37      7046\n",
      "weighted avg       0.59      0.63      0.60      7046\n",
      "\n",
      "[[  25   39  110   35   37]\n",
      " [  13   34  242  104   89]\n",
      " [   5   21  318  286  223]\n",
      " [   1    4  124  492  851]\n",
      " [   1    6   44  374 3568]]\n",
      "      actual_label  prediction\n",
      "0                4           3\n",
      "1                5           5\n",
      "2                5           5\n",
      "3                5           5\n",
      "4                4           3\n",
      "...            ...         ...\n",
      "7041             5           5\n",
      "7042             4           5\n",
      "7043             5           5\n",
      "7044             5           5\n",
      "7045             4           5\n",
      "\n",
      "[7046 rows x 2 columns]\n"
     ]
    },
    {
     "data": {
      "image/png": "[encoded data removed]",
      "text/plain": [
       "<Figure size 432x288 with 1 Axes>"
      ]
     },
     "metadata": {
      "needs_background": "light"
     },
     "output_type": "display_data"
    }
   ],
   "source": [
    "Appren_2, Test_2 = train_test_split(df, train_size = 0.7, random_state = 0)\n",
    "from sklearn.feature_extraction.text import CountVectorizer\n",
    "vector = CountVectorizer(strip_accents='ascii', token_pattern=u'(?ui)\\\\b\\\\w*[a-z]+\\\\w*\\\\b', lowercase=True, stop_words='english')\n",
    "\n",
    "X_Appren_2 = vector.fit_transform(Appren['Review Text'])\n",
    "Y_Appren_2 = Appren['Rating']\n",
    "X_Test_2 = vector.transform(Test['Review Text'])\n",
    "Y_Test_2 = Test['Rating']\n",
    "\n",
    "NB_2 = MultinomialNB()\n",
    "NB_2.fit(X_Appren_2, Y_Appren_2)\n",
    "\n",
    "prediction_2 = NB_2.predict(X_Test_2)\n",
    "\n",
    "from sklearn.metrics import accuracy_score, precision_score, recall_score\n",
    "print('Accuracy score: ', accuracy_score(Y_Test_2, prediction_2))\n",
    "\n",
    "import sklearn.metrics as mt\n",
    "print(mt.classification_report(Y_Test_2, prediction_2))\n",
    "\n",
    "from sklearn.metrics import confusion_matrix\n",
    "import matplotlib.pyplot as plt\n",
    "import seaborn as sns\n",
    "cm_2 = confusion_matrix(Y_Test_2, prediction_2)\n",
    "print(cm_2)\n",
    "sns.heatmap(cm_2, square=True, annot=True, cmap='RdBu', cbar=False,\n",
    "xticklabels=['1', '2', '3', '4', '5'], yticklabels=['1', '2', '3', '4', '5'])\n",
    "plt.xlabel('Résultat Actuel')\n",
    "plt.ylabel('Résultat Prédit')\n",
    "\n",
    "\n",
    "check_df_2 = pd.DataFrame({'actual_label': list(Y_Test_2), 'prediction': prediction_2})\n",
    "\n",
    "print(check_df_2)\n",
    "\n"
   ]
  },
  {
   "cell_type": "markdown",
   "metadata": {},
   "source": [
    "### 1. La 2ére dataset: Analyse des sentiments (Sentiment.csv)\n",
    "\n",
    "de la méme maniere que DATASET 1 "
   ]
  },
  {
   "cell_type": "code",
   "execution_count": 370,
   "metadata": {},
   "outputs": [
    {
     "name": "stdout",
     "output_type": "stream",
     "text": [
      "Accuracy score:  0.835\n",
      "              precision    recall  f1-score   support\n",
      "\n",
      "           0       0.84      0.81      0.83        96\n",
      "           1       0.83      0.86      0.84       104\n",
      "\n",
      "    accuracy                           0.83       200\n",
      "   macro avg       0.84      0.83      0.83       200\n",
      "weighted avg       0.84      0.83      0.83       200\n",
      "\n",
      "[[78 18]\n",
      " [15 89]]\n",
      "     actual_label  prediction\n",
      "0               0           0\n",
      "1               0           0\n",
      "2               0           0\n",
      "3               1           1\n",
      "4               0           0\n",
      "..            ...         ...\n",
      "195             1           1\n",
      "196             1           1\n",
      "197             1           1\n",
      "198             0           0\n",
      "199             0           0\n",
      "\n",
      "[200 rows x 2 columns]\n"
     ]
    },
    {
     "data": {
      "image/png": "[encoded data removed]",
      "text/plain": [
       "<Figure size 432x288 with 1 Axes>"
      ]
     },
     "metadata": {
      "needs_background": "light"
     },
     "output_type": "display_data"
    }
   ],
   "source": [
    "df_2 = pd.read_csv('./Sentiment.csv')\n",
    "\n",
    "df_2.head()\n",
    "df_2.describe()\n",
    "\n",
    "Appren_2, Test_2 = train_test_split(df_2, train_size = 0.8, random_state = 0)\n",
    "\n",
    "X_Appren_3 = vector.fit_transform(Appren_2['Text'])\n",
    "Y_Appren_3 = Appren_2['Result']\n",
    "X_Test_3 = vector.transform(Test_2['Text'])\n",
    "Y_Test_3 = Test_2['Result']\n",
    "\n",
    "NB_3 = MultinomialNB()\n",
    "NB_3.fit(X_Appren_3, Y_Appren_3)\n",
    "\n",
    "prediction_3 = NB_3.predict(X_Test_3)\n",
    "\n",
    "from sklearn.metrics import accuracy_score, precision_score, recall_score\n",
    "print('Accuracy score: ', accuracy_score(Y_Test_3, prediction_3))\n",
    "\n",
    "import sklearn.metrics as mt\n",
    "print(mt.classification_report(Y_Test_3, prediction_3))\n",
    "\n",
    "from sklearn.metrics import confusion_matrix\n",
    "import matplotlib.pyplot as plt\n",
    "import seaborn as sns\n",
    "cm_3 = confusion_matrix(Y_Test_3, prediction_3)\n",
    "print(cm_3)\n",
    "sns.heatmap(cm_3, square=True, annot=True, cmap='RdBu', cbar=False,\n",
    "xticklabels=['0', '1'], yticklabels=['0', '1'])\n",
    "plt.xlabel('Résultat Actuel')\n",
    "plt.ylabel('Résultat Prédit')\n",
    "\n",
    "check_df_3 = pd.DataFrame({'actual_label': list(Y_Test_3), 'prediction': prediction_3})\n",
    "\n",
    "print(check_df_3)"
   ]
  },
  {
   "cell_type": "code",
   "execution_count": null,
   "metadata": {},
   "outputs": [],
   "source": []
  },
  {
   "cell_type": "code",
   "execution_count": null,
   "metadata": {},
   "outputs": [],
   "source": []
  },
  {
   "cell_type": "code",
   "execution_count": null,
   "metadata": {},
   "outputs": [],
   "source": []
  },
  {
   "cell_type": "code",
   "execution_count": null,
   "metadata": {},
   "outputs": [],
   "source": []
  },
  {
   "cell_type": "code",
   "execution_count": null,
   "metadata": {},
   "outputs": [],
   "source": []
  }
 ],
 "metadata": {
  "celltoolbar": "Attachments",
  "kernelspec": {
   "display_name": "Python 3",
   "language": "python",
   "name": "python3"
  },
  "language_info": {
   "codemirror_mode": {
    "name": "ipython",
    "version": 3
   },
   "file_extension": ".py",
   "mimetype": "text/x-python",
   "name": "python",
   "nbconvert_exporter": "python",
   "pygments_lexer": "ipython3",
   "version": "3.7.6"
  }
 },
 "nbformat": 4,
 "nbformat_minor": 4
}
